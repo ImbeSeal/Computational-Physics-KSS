{
  "cells": [
    {
      "cell_type": "markdown",
      "metadata": {
        "id": "G6eAMG7cQUiq"
      },
      "source": [
        "# Maths"
      ]
    },
    {
      "cell_type": "code",
      "execution_count": null,
      "metadata": {
        "colab": {
          "base_uri": "https://localhost:8080/"
        },
        "id": "8t9mjF-3QZ4Q",
        "outputId": "5d0e027a-73b4-4f4f-d909-f265b4756a96"
      },
      "outputs": [],
      "source": [
        "import math \n",
        "  \n",
        "# ceil function\n",
        "a = 2.3 \n",
        "b=math.ceil(a)\n",
        "print(b)\n",
        "\n",
        "# floor function\n",
        "b=math.floor(a)\n",
        "print(b)\n",
        "\n",
        "\n",
        "#square root function\n",
        "b=4\n",
        "a=math.sqrt(b)\n",
        "print(a)\n",
        "print(type(a))\n",
        "#o(n)\n",
        "\n",
        "#log function \n",
        "a=math.log(4,2)\n",
        "print(a)\n",
        "print(type(a))\n",
        "#o(n)\n",
        "\n",
        "  "
      ]
    },
    {
      "cell_type": "code",
      "execution_count": null,
      "metadata": {
        "colab": {
          "base_uri": "https://localhost:8080/"
        },
        "id": "94Otpng8RNr6",
        "outputId": "e184e92b-09cb-4cdf-84b6-92ddbfdeffda"
      },
      "outputs": [],
      "source": [
        "# absolute value\n",
        "a=-2\n",
        "b=abs(a)\n",
        "print(b)\n",
        "\n",
        "#power function a^b=pow(a,b)\n",
        "b=pow(2,2)\n",
        "c=2**2\n",
        "print(b)\n",
        "print(c)\n",
        "\n"
      ]
    },
    {
      "cell_type": "code",
      "execution_count": null,
      "metadata": {
        "colab": {
          "base_uri": "https://localhost:8080/"
        },
        "id": "XzAkxBK5S41V",
        "outputId": "7a24cf11-a255-4e9e-c2d6-23fe9fff1295"
      },
      "outputs": [],
      "source": [
        "# infinity\n",
        "\n",
        "a=float(\"inf\")\n",
        "b=float(\"-inf\")\n",
        "print(a,type(a))\n",
        "\n",
        "\n",
        "# max and min function\n",
        "# ans=min(a,0,-1)\n",
        "# print(ans)\n",
        "\n",
        "# ans1=max(b,0)\n",
        "# print(ans1)"
      ]
    },
    {
      "cell_type": "markdown",
      "metadata": {
        "id": "8caUbvoShnVl"
      },
      "source": [
        "# NumPy\n",
        "The basics:\n",
        "\n",
        "\n",
        "*  NumPy arrays are **Homogeneous** multidimensional array.\n",
        "*   In NumPy dimensions are called axes. The number of axes is rank.\n",
        "* NumPy’s array class is called ndarray (n dimensional array).\n",
        "\n",
        "\n",
        "\n",
        "\n"
      ]
    },
    {
      "cell_type": "code",
      "execution_count": null,
      "metadata": {
        "id": "gSO985OHlJm4"
      },
      "outputs": [],
      "source": [
        "import numpy as np\n"
      ]
    },
    {
      "cell_type": "code",
      "execution_count": null,
      "metadata": {
        "colab": {
          "base_uri": "https://localhost:8080/"
        },
        "id": "MHvoh0Pbikga",
        "outputId": "7b4d6a15-cb0d-4d59-d5a0-d4db2889139f"
      },
      "outputs": [],
      "source": [
        "a = np.arange(15).reshape(3, 5)\n",
        "#Basic attributes associated with numpy arrays\n",
        "dim=a.ndim\n",
        "shape=a.shape\n",
        "size=a.size\n",
        "datatype=a.dtype\n",
        "print (\"a = \",a)\n",
        "print (\"Number of axes (dimensions) of the array = \", dim)\n",
        "print (\"Dimension of the array = \", shape)\n",
        "print (\"Total number of elements of the array = \", size)\n",
        "print (\"Type of the elements in the array = \", datatype)"
      ]
    },
    {
      "cell_type": "code",
      "execution_count": null,
      "metadata": {
        "colab": {
          "base_uri": "https://localhost:8080/"
        },
        "id": "yDXX64WOilVc",
        "outputId": "90f3fb6d-57e9-4ed4-eb62-24745e8487fd"
      },
      "outputs": [],
      "source": [
        "#Array creation\n",
        "a = np.array([2,3,4])\n",
        "print(a)\n",
        "#Wrong-->a=np.array(1,2,3,4)\n",
        "#Right-->a=np.array([1,2,3,4])\n",
        "b = np.array([(1.5,2,3), (4,5,6)])\n",
        "print(b)\n"
      ]
    },
    {
      "cell_type": "code",
      "execution_count": null,
      "metadata": {
        "colab": {
          "base_uri": "https://localhost:8080/"
        },
        "id": "AtyY4Lvnilbb",
        "outputId": "493b5239-4c49-4b8b-c866-19f35d32071b"
      },
      "outputs": [],
      "source": [
        "c = np.array([[1,2], [3,4]], dtype=complex)\n",
        "print(c)"
      ]
    },
    {
      "cell_type": "code",
      "execution_count": null,
      "metadata": {
        "colab": {
          "base_uri": "https://localhost:8080/"
        },
        "id": "w3NBUuCmileU",
        "outputId": "e4758cd5-e55d-40c3-9ba6-7be771b78dbe"
      },
      "outputs": [],
      "source": [
        "zero=np.zeros((3,4)) #zeros\n",
        "ones=np.ones((2,3,4),dtype=np.int16) #ones\n",
        "empty=np.empty(3,) #random based on system state\n",
        "constant = np.full((2,2), 7)# Create a constant array \n",
        "identity = np.eye(2)  #identity matrix\n",
        "# np.random.seed(42)\n",
        "rando= np.random.random((2,2)) #random based on some seed can be set using np.random.seed()\n",
        "print(zero,ones,empty,constant,identity,rando,sep='\\n')"
      ]
    },
    {
      "cell_type": "code",
      "execution_count": null,
      "metadata": {
        "colab": {
          "base_uri": "https://localhost:8080/"
        },
        "id": "B2OXuGWrilhE",
        "outputId": "d7432bb0-60cc-49f6-bbb4-50e4d0e54302"
      },
      "outputs": [],
      "source": [
        "a=np.arange( 10, 30, 5 ) ##np.arrange(start,stop+1,step) \n",
        "print(a)\n",
        "b=np.arange( 0, 2, 0.3 ) ##step can be float!\n",
        "print(b)\n",
        "c=np.linspace( 0, 2, 9 ) ##np.linspace(start,stop,no.of points)\n",
        "print(c) "
      ]
    },
    {
      "cell_type": "code",
      "execution_count": null,
      "metadata": {
        "colab": {
          "base_uri": "https://localhost:8080/"
        },
        "id": "s0b1_4L9lK2D",
        "outputId": "b5978623-af82-435f-c14e-5537593d4bcd"
      },
      "outputs": [],
      "source": [
        "a = np.arange(6)                         # 1d array\n",
        "print(a)\n",
        "b = np.arange(12).reshape(4,3)           # 2d array\n",
        "print(b)\n",
        "c = np.arange(24).reshape(2,3,4)         # 3d array\n",
        "print(c)"
      ]
    },
    {
      "cell_type": "code",
      "execution_count": null,
      "metadata": {
        "colab": {
          "base_uri": "https://localhost:8080/"
        },
        "id": "w61vq-IkloSl",
        "outputId": "f416fcde-f22a-40b5-d083-836c5af4a765"
      },
      "outputs": [],
      "source": [
        "print(np.arange(10000).reshape(100,100))\n"
      ]
    },
    {
      "cell_type": "code",
      "execution_count": null,
      "metadata": {
        "colab": {
          "base_uri": "https://localhost:8080/"
        },
        "id": "NDBM6eJplxwl",
        "outputId": "6bddf991-8be9-4df1-c93b-cc332951f560"
      },
      "outputs": [],
      "source": [
        "np.random.seed(42)\n",
        "a = np.random.randint(low=0,high=10,size=(3,3))\n",
        "b = np.full((3,3),2)\n",
        "print(a,b,sep='\\n')"
      ]
    },
    {
      "cell_type": "code",
      "execution_count": null,
      "metadata": {
        "colab": {
          "base_uri": "https://localhost:8080/"
        },
        "id": "qAW2jKD3ntXR",
        "outputId": "7c2381f3-1541-4ff3-e6ad-f13c843a7245"
      },
      "outputs": [],
      "source": [
        "diff=a-b\n",
        "add=a+b\n",
        "multiply=a*b\n",
        "divide=a/b\n",
        "squared=a**3\n",
        "squa_arr=np.power(a,b)\n",
        "sin=np.pi*(np.sin(a+b))\n",
        "print(diff,add,multiply,divide,squared,squa_arr,sin,sep='\\n')"
      ]
    },
    {
      "cell_type": "code",
      "execution_count": null,
      "metadata": {
        "colab": {
          "base_uri": "https://localhost:8080/"
        },
        "id": "pQE79gz3omgd",
        "outputId": "3ec4841e-96e9-4927-9617-70d395a68a5b"
      },
      "outputs": [],
      "source": [
        "#classic dot product\n",
        "c=np.dot(a,b)\n",
        "d=np.cross(a,b)\n",
        "print(c,d,sep='\\n')"
      ]
    },
    {
      "cell_type": "code",
      "execution_count": null,
      "metadata": {
        "colab": {
          "base_uri": "https://localhost:8080/",
          "height": 229
        },
        "id": "4IEYmizJqh8R",
        "outputId": "c27483a3-325a-43c1-cecf-e795a7c3d133"
      },
      "outputs": [],
      "source": [
        "a = np.ones((2,3), dtype=int)\n",
        "b = np.random.random((2,3))\n",
        "#b+=a #works\n",
        "#a+=b #doesnt work\n",
        "#a=a+b #works\n"
      ]
    },
    {
      "cell_type": "code",
      "execution_count": null,
      "metadata": {
        "colab": {
          "base_uri": "https://localhost:8080/"
        },
        "id": "fqTGih36rHRI",
        "outputId": "07a522e1-2c45-4c90-d272-aeafe97c74e5"
      },
      "outputs": [],
      "source": [
        "a=np.arange(9).reshape((3,3))\n",
        "print\n",
        "print(a.sum(),a.min(),a.max())"
      ]
    },
    {
      "cell_type": "code",
      "execution_count": null,
      "metadata": {
        "colab": {
          "base_uri": "https://localhost:8080/"
        },
        "id": "NippRcdJrafy",
        "outputId": "993ca709-7137-4e5f-d8d5-b4703c2aa1ee"
      },
      "outputs": [],
      "source": [
        "print(a.sum(axis=0))\n",
        "print(a.sum(axis=1))"
      ]
    },
    {
      "cell_type": "code",
      "execution_count": null,
      "metadata": {
        "colab": {
          "base_uri": "https://localhost:8080/"
        },
        "id": "A1c-RLW7r7eu",
        "outputId": "6305107a-35c3-4917-d1b2-870824a3b811"
      },
      "outputs": [],
      "source": [
        "#Universal Functions\n",
        "print(np.sqrt(a))\n",
        "print(np.exp(a))\n",
        "print(np.arctan(a))\n",
        "print(np.log(a)) "
      ]
    },
    {
      "cell_type": "code",
      "execution_count": null,
      "metadata": {
        "colab": {
          "base_uri": "https://localhost:8080/"
        },
        "id": "WOv_8nrMtefK",
        "outputId": "7c24ee75-98a4-4d54-a4e2-9ddaf514c0e1"
      },
      "outputs": [],
      "source": [
        "#Masks\n",
        "np.random.seed(42)\n",
        "a=np.random.random((3,3))\n",
        "b=a>0.5\n",
        "print(a,b,sep='\\n\\n')"
      ]
    },
    {
      "cell_type": "code",
      "execution_count": null,
      "metadata": {
        "colab": {
          "base_uri": "https://localhost:8080/"
        },
        "id": "q0gj37UNsaod",
        "outputId": "f789aa90-a912-4423-9eb9-13989f28f4ce"
      },
      "outputs": [],
      "source": [
        "#Indexing numpy arrays\n",
        "#Returns views ie pointer is still to original array\n",
        "a=np.arange(25).reshape((5,5))\n",
        "print(a)\n",
        "print(a[2])\n",
        "print(a[2:5])\n",
        "print(a[1,2])\n",
        "print(a[1:,:1])\n",
        "print(a[:,-1])"
      ]
    },
    {
      "cell_type": "code",
      "execution_count": null,
      "metadata": {
        "colab": {
          "base_uri": "https://localhost:8080/"
        },
        "id": "Ba5JTmkZBUut",
        "outputId": "04952bd2-f643-4523-cf06-f4fc56320329"
      },
      "outputs": [],
      "source": [
        "#broadcasting\n",
        "a = np.array([[0.0,0.0,0.0],[10.0,10.0,10.0],[20.0,20.0,20.0],[30.0,30.0,30.0]]) \n",
        "b = np.array([1.0,2.0,3.0])  \n",
        "   \n",
        "print('First array:') \n",
        "print(a)\n",
        "print()\n",
        "   \n",
        "print( 'Second array:') \n",
        "print( b )\n",
        "print() \n",
        "   \n",
        "print ('First Array + Second Array' )\n",
        "print (a + b)"
      ]
    },
    {
      "cell_type": "code",
      "execution_count": null,
      "metadata": {
        "colab": {
          "base_uri": "https://localhost:8080/"
        },
        "id": "x-DQjIRWs1-w",
        "outputId": "74bb3299-3c7e-47bd-908e-8974e01cfaae"
      },
      "outputs": [],
      "source": [
        "#Vectorisation\n",
        "import time\n",
        "a=list(range(100000))\n",
        "b=list(range(100000))\n",
        "anp=np.array(a)\n",
        "bnp=np.array(b)\n",
        "##Classic\n",
        "start=time.time()\n",
        "dot=0.0\n",
        "for i in range(100000):\n",
        "  dot+=a[i]*b[i]\n",
        "stop=time.time()\n",
        "print(\"Without vector:\",(stop-start)*1000,dot)\n",
        "start=time.time()\n",
        "dot2=np.dot(anp,bnp)\n",
        "stop=time.time()\n",
        "print(\"With vecotor:\",(stop-start)*1000,dot2)"
      ]
    },
    {
      "cell_type": "markdown",
      "metadata": {},
      "source": [
        "# Matplotlib"
      ]
    },
    {
      "cell_type": "code",
      "execution_count": null,
      "metadata": {
        "id": "N_xZtrD19_Ck"
      },
      "outputs": [],
      "source": [
        "import matplotlib.pyplot as plt"
      ]
    },
    {
      "cell_type": "code",
      "execution_count": null,
      "metadata": {
        "colab": {
          "base_uri": "https://localhost:8080/",
          "height": 265
        },
        "id": "nPC7A_5i_UIi",
        "outputId": "e865ecde-1cbf-44ee-d063-c73e6048c0be"
      },
      "outputs": [],
      "source": [
        "x = np.arange(0, 3 * np.pi, 0.1)\n",
        "y = np.sin(x)\n",
        "plt.plot(x, y)\n",
        "plt.show()  "
      ]
    },
    {
      "cell_type": "code",
      "execution_count": null,
      "metadata": {
        "colab": {
          "base_uri": "https://localhost:8080/",
          "height": 295
        },
        "id": "nVbkOEqr_Zy0",
        "outputId": "a6ea9a22-fce5-4d53-ea3e-d4b843748249"
      },
      "outputs": [],
      "source": [
        "x = np.arange(0, 3 * np.pi, 0.1)\n",
        "y_sin = np.sin(x)\n",
        "y_cos = np.cos(x)\n",
        "\n",
        "\n",
        "plt.plot(x, y_sin)\n",
        "plt.plot(x, y_cos)\n",
        "plt.xlabel('x axis label')\n",
        "plt.ylabel('y axis label')\n",
        "plt.title('Sine and Cosine')\n",
        "plt.legend(['Sine', 'Cosine'])\n",
        "plt.show()"
      ]
    },
    {
      "cell_type": "code",
      "execution_count": null,
      "metadata": {
        "colab": {
          "base_uri": "https://localhost:8080/",
          "height": 281
        },
        "id": "eTP8O3xn_e1n",
        "outputId": "9e467026-26b8-45fd-f0a3-bf6a65069e65"
      },
      "outputs": [],
      "source": [
        "\n",
        "\n",
        "x = np.arange(0, 3 * np.pi, 0.1)\n",
        "y_exp = np.exp(x)\n",
        "y_cos = np.cos(x)\n",
        "\n",
        "# Set up a subplot grid that has height 2 and width 1,\n",
        "# and set the first such subplot as active.\n",
        "plt.subplot(2, 1, 1)\n",
        "\n",
        "# Make the first plot\n",
        "plt.plot(x, y_exp)\n",
        "plt.title('Exp')\n",
        "\n",
        "# Set the second subplot as active, and make the second plot.\n",
        "plt.subplot(2, 1, 2)\n",
        "plt.plot(x, y_cos)\n",
        "plt.title('Cosine')\n",
        "\n",
        "# Show the figure.\n",
        "plt.show()\n"
      ]
    }
  ],
  "metadata": {
    "colab": {
      "collapsed_sections": [],
      "name": "Python_KSS_Part_2.ipynb",
      "provenance": []
    },
    "kernelspec": {
      "display_name": "Python 3",
      "name": "python3"
    },
    "language_info": {
      "codemirror_mode": {
        "name": "ipython",
        "version": 3
      },
      "file_extension": ".py",
      "mimetype": "text/x-python",
      "name": "python",
      "nbconvert_exporter": "python",
      "pygments_lexer": "ipython3",
      "version": "3.8.10"
    }
  },
  "nbformat": 4,
  "nbformat_minor": 0
}
