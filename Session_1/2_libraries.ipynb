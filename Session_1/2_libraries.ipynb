{
  "cells": [
    {
      "cell_type": "markdown",
      "metadata": {
        "id": "G6eAMG7cQUiq"
      },
      "source": [
        "# Maths"
      ]
    },
    {
      "cell_type": "code",
      "execution_count": 1,
      "metadata": {
        "colab": {
          "base_uri": "https://localhost:8080/"
        },
        "id": "8t9mjF-3QZ4Q",
        "outputId": "5d0e027a-73b4-4f4f-d909-f265b4756a96"
      },
      "outputs": [
        {
          "name": "stdout",
          "output_type": "stream",
          "text": [
            "3\n",
            "2\n",
            "2.0\n",
            "<class 'float'>\n",
            "2.0\n",
            "<class 'float'>\n"
          ]
        }
      ],
      "source": [
        "import math \n",
        "  \n",
        "# ceil function\n",
        "a = 2.3 \n",
        "b=math.ceil(a)\n",
        "print(b)\n",
        "\n",
        "# floor function\n",
        "b=math.floor(a)\n",
        "print(b)\n",
        "\n",
        "\n",
        "#square root function\n",
        "b=4\n",
        "a=math.sqrt(b)\n",
        "print(a)\n",
        "print(type(a))\n",
        "#o(n)\n",
        "\n",
        "#log function \n",
        "a=math.log(4,2)\n",
        "print(a)\n",
        "print(type(a))\n",
        "#o(n)\n",
        "  "
      ]
    },
    {
      "cell_type": "code",
      "execution_count": 2,
      "metadata": {
        "colab": {
          "base_uri": "https://localhost:8080/"
        },
        "id": "94Otpng8RNr6",
        "outputId": "e184e92b-09cb-4cdf-84b6-92ddbfdeffda"
      },
      "outputs": [
        {
          "name": "stdout",
          "output_type": "stream",
          "text": [
            "2\n",
            "4\n",
            "4\n"
          ]
        }
      ],
      "source": [
        "# absolute value\n",
        "a=-2\n",
        "b=abs(a)\n",
        "print(b)\n",
        "\n",
        "#power function a^b=pow(a,b)\n",
        "b=pow(2,2)\n",
        "c=2**2\n",
        "print(b)\n",
        "print(c)\n",
        "\n"
      ]
    },
    {
      "cell_type": "code",
      "execution_count": 6,
      "metadata": {
        "colab": {
          "base_uri": "https://localhost:8080/"
        },
        "id": "XzAkxBK5S41V",
        "outputId": "7a24cf11-a255-4e9e-c2d6-23fe9fff1295"
      },
      "outputs": [
        {
          "name": "stdout",
          "output_type": "stream",
          "text": [
            "inf <class 'float'>\n",
            "-inf <class 'float'>\n",
            "-1\n",
            "0\n"
          ]
        }
      ],
      "source": [
        "# infinity\n",
        "\n",
        "a=float(\"inf\")\n",
        "b=float(\"-inf\")\n",
        "print(a,type(a))\n",
        "print(b,type(b))\n",
        "\n",
        "\n",
        "#max and min function\n",
        "ans=min(a,0,-1)\n",
        "print(ans)\n",
        "\n",
        "ans1=max(b,0)\n",
        "print(ans1)"
      ]
    },
    {
      "cell_type": "markdown",
      "metadata": {
        "id": "8caUbvoShnVl"
      },
      "source": [
        "# NumPy\n",
        "The basics:\n",
        "\n",
        "\n",
        "*  NumPy arrays are **Homogeneous** multidimensional array.\n",
        "*   In NumPy dimensions are called axes. The number of axes is rank.\n",
        "* NumPy’s array class is called ndarray (n dimensional array).\n",
        "\n",
        "\n",
        "\n",
        "\n"
      ]
    },
    {
      "cell_type": "code",
      "execution_count": 7,
      "metadata": {
        "id": "gSO985OHlJm4"
      },
      "outputs": [],
      "source": [
        "import numpy as np"
      ]
    },
    {
      "cell_type": "code",
      "execution_count": 8,
      "metadata": {
        "colab": {
          "base_uri": "https://localhost:8080/"
        },
        "id": "MHvoh0Pbikga",
        "outputId": "7b4d6a15-cb0d-4d59-d5a0-d4db2889139f"
      },
      "outputs": [
        {
          "name": "stdout",
          "output_type": "stream",
          "text": [
            "a =  [[ 0  1  2  3  4]\n",
            " [ 5  6  7  8  9]\n",
            " [10 11 12 13 14]]\n",
            "Number of axes (dimensions) of the array =  2\n",
            "Dimension of the array =  (3, 5)\n",
            "Total number of elements of the array =  15\n",
            "Type of the elements in the array =  int64\n"
          ]
        }
      ],
      "source": [
        "a = np.arange(15).reshape(3, 5)\n",
        "#Basic attributes associated with numpy arrays\n",
        "dim=a.ndim\n",
        "shape=a.shape\n",
        "size=a.size\n",
        "datatype=a.dtype\n",
        "print (\"a = \",a)\n",
        "print (\"Number of axes (dimensions) of the array = \", dim)\n",
        "print (\"Dimension of the array = \", shape)\n",
        "print (\"Total number of elements of the array = \", size)\n",
        "print (\"Type of the elements in the array = \", datatype)"
      ]
    },
    {
      "cell_type": "code",
      "execution_count": 9,
      "metadata": {
        "colab": {
          "base_uri": "https://localhost:8080/"
        },
        "id": "yDXX64WOilVc",
        "outputId": "90f3fb6d-57e9-4ed4-eb62-24745e8487fd"
      },
      "outputs": [
        {
          "name": "stdout",
          "output_type": "stream",
          "text": [
            "[2 3 4]\n",
            "[[1.5 2.  3. ]\n",
            " [4.  5.  6. ]]\n"
          ]
        }
      ],
      "source": [
        "#Array creation\n",
        "a = np.array([2,3,4])\n",
        "print(a)\n",
        "#Wrong-->a=np.array(1,2,3,4)\n",
        "#Right-->a=np.array([1,2,3,4])\n",
        "b = np.array([(1.5,2,3), (4,5,6)])\n",
        "print(b)\n"
      ]
    },
    {
      "cell_type": "code",
      "execution_count": 14,
      "metadata": {
        "colab": {
          "base_uri": "https://localhost:8080/"
        },
        "id": "AtyY4Lvnilbb",
        "outputId": "493b5239-4c49-4b8b-c866-19f35d32071b"
      },
      "outputs": [
        {
          "name": "stdout",
          "output_type": "stream",
          "text": [
            "[[1.+0.j 2.+0.j]\n",
            " [3.+0.j 4.+0.j]]\n"
          ]
        }
      ],
      "source": [
        "c = np.array([[1,2], [3,4]], dtype=complex)\n",
        "print(c)"
      ]
    },
    {
      "cell_type": "code",
      "execution_count": 17,
      "metadata": {
        "colab": {
          "base_uri": "https://localhost:8080/"
        },
        "id": "w3NBUuCmileU",
        "outputId": "e4758cd5-e55d-40c3-9ba6-7be771b78dbe"
      },
      "outputs": [
        {
          "name": "stdout",
          "output_type": "stream",
          "text": [
            "[[0. 0. 0. 0.]\n",
            " [0. 0. 0. 0.]\n",
            " [0. 0. 0. 0.]]\n",
            "[[[1 1 1 1]\n",
            "  [1 1 1 1]\n",
            "  [1 1 1 1]]\n",
            "\n",
            " [[1 1 1 1]\n",
            "  [1 1 1 1]\n",
            "  [1 1 1 1]]]\n",
            "[1. 1. 1.]\n",
            "[[7 7]\n",
            " [7 7]]\n",
            "[[1. 0. 0.]\n",
            " [0. 1. 0.]\n",
            " [0. 0. 1.]]\n",
            "[[0.25228966 0.80060935]\n",
            " [0.8357203  0.9678807 ]]\n"
          ]
        }
      ],
      "source": [
        "zero=np.zeros((3,4)) #zeros\n",
        "ones=np.ones((2,3,4),dtype=np.int16) #ones\n",
        "empty=np.empty(3,) #random based on system state\n",
        "constant = np.full((2,2), 7)# Create a constant array \n",
        "identity = np.eye(3)  #identity matrix\n",
        "# np.random.seed(42)\n",
        "rando= np.random.random((2,2)) #random based on some seed can be set using np.random.seed()\n",
        "print(zero,ones,empty,constant,identity,rando,sep='\\n')"
      ]
    },
    {
      "cell_type": "code",
      "execution_count": 18,
      "metadata": {
        "colab": {
          "base_uri": "https://localhost:8080/"
        },
        "id": "B2OXuGWrilhE",
        "outputId": "d7432bb0-60cc-49f6-bbb4-50e4d0e54302"
      },
      "outputs": [
        {
          "name": "stdout",
          "output_type": "stream",
          "text": [
            "[10 15 20 25]\n",
            "[0.  0.3 0.6 0.9 1.2 1.5 1.8]\n",
            "[0.   0.25 0.5  0.75 1.   1.25 1.5  1.75 2.  ]\n"
          ]
        }
      ],
      "source": [
        "a=np.arange( 10, 30, 5 ) ##np.arrange(start,stop+1,step) \n",
        "print(a)\n",
        "b=np.arange( 0, 2, 0.3 ) ##step can be float!\n",
        "print(b)\n",
        "c=np.linspace( 0, 2, 9 ) ##np.linspace(start,stop,no.of points)\n",
        "print(c) "
      ]
    },
    {
      "cell_type": "code",
      "execution_count": 20,
      "metadata": {
        "colab": {
          "base_uri": "https://localhost:8080/"
        },
        "id": "s0b1_4L9lK2D",
        "outputId": "b5978623-af82-435f-c14e-5537593d4bcd"
      },
      "outputs": [
        {
          "name": "stdout",
          "output_type": "stream",
          "text": [
            "[0 1 2 3 4 5]\n",
            "[[ 0  1  2]\n",
            " [ 3  4  5]\n",
            " [ 6  7  8]\n",
            " [ 9 10 11]]\n",
            "[[[ 0  1  2  3]\n",
            "  [ 4  5  6  7]\n",
            "  [ 8  9 10 11]]\n",
            "\n",
            " [[12 13 14 15]\n",
            "  [16 17 18 19]\n",
            "  [20 21 22 23]]]\n"
          ]
        },
        {
          "data": {
            "text/plain": [
              "(2, 3, 4)"
            ]
          },
          "execution_count": 20,
          "metadata": {},
          "output_type": "execute_result"
        }
      ],
      "source": [
        "a = np.arange(6)                         # 1d array\n",
        "print(a)\n",
        "b = np.arange(12).reshape(4,3)           # 2d array\n",
        "print(b)\n",
        "c = np.arange(24).reshape(2,3,4)         # 3d array\n",
        "print(c)\n",
        "c.shape"
      ]
    },
    {
      "cell_type": "code",
      "execution_count": 21,
      "metadata": {
        "colab": {
          "base_uri": "https://localhost:8080/"
        },
        "id": "w61vq-IkloSl",
        "outputId": "f416fcde-f22a-40b5-d083-836c5af4a765"
      },
      "outputs": [
        {
          "name": "stdout",
          "output_type": "stream",
          "text": [
            "[[   0    1    2 ...   97   98   99]\n",
            " [ 100  101  102 ...  197  198  199]\n",
            " [ 200  201  202 ...  297  298  299]\n",
            " ...\n",
            " [9700 9701 9702 ... 9797 9798 9799]\n",
            " [9800 9801 9802 ... 9897 9898 9899]\n",
            " [9900 9901 9902 ... 9997 9998 9999]]\n"
          ]
        }
      ],
      "source": [
        "print(np.arange(10000).reshape(100,100))\n"
      ]
    },
    {
      "cell_type": "code",
      "execution_count": 22,
      "metadata": {
        "colab": {
          "base_uri": "https://localhost:8080/"
        },
        "id": "NDBM6eJplxwl",
        "outputId": "6bddf991-8be9-4df1-c93b-cc332951f560"
      },
      "outputs": [
        {
          "name": "stdout",
          "output_type": "stream",
          "text": [
            "[[6 3 7]\n",
            " [4 6 9]\n",
            " [2 6 7]]\n",
            "[[2 2 2]\n",
            " [2 2 2]\n",
            " [2 2 2]]\n"
          ]
        }
      ],
      "source": [
        "np.random.seed(42)\n",
        "a = np.random.randint(low=0,high=10,size=(3,3))\n",
        "b = np.full((3,3),2)\n",
        "print(a,b,sep='\\n')"
      ]
    },
    {
      "cell_type": "code",
      "execution_count": 24,
      "metadata": {
        "colab": {
          "base_uri": "https://localhost:8080/"
        },
        "id": "qAW2jKD3ntXR",
        "outputId": "7c2381f3-1541-4ff3-e6ad-f13c843a7245"
      },
      "outputs": [
        {
          "name": "stdout",
          "output_type": "stream",
          "text": [
            "[[4 1 5]\n",
            " [2 4 7]\n",
            " [0 4 5]]\n",
            "[[ 8  5  9]\n",
            " [ 6  8 11]\n",
            " [ 4  8  9]]\n",
            "[[12  6 14]\n",
            " [ 8 12 18]\n",
            " [ 4 12 14]]\n",
            "[[3.  1.5 3.5]\n",
            " [2.  3.  4.5]\n",
            " [1.  3.  3.5]]\n",
            "[[36  9 49]\n",
            " [16 36 81]\n",
            " [ 4 36 49]]\n",
            "[[36  9 49]\n",
            " [16 36 81]\n",
            " [ 4 36 49]]\n",
            "[[ 3.1081606  -3.01254946  1.29470841]\n",
            " [-0.87780968  3.1081606  -3.14156189]\n",
            " [-2.37756516  3.1081606   1.29470841]]\n"
          ]
        }
      ],
      "source": [
        "diff=a-b\n",
        "add=a+b\n",
        "multiply=a*b\n",
        "divide=a/b\n",
        "squared=a**2\n",
        "squa_arr=np.power(a,b)\n",
        "sin=np.pi*(np.sin(a+b))\n",
        "print(diff,add,multiply,divide,squared,squa_arr,sin,sep='\\n')"
      ]
    },
    {
      "cell_type": "code",
      "execution_count": null,
      "metadata": {
        "colab": {
          "base_uri": "https://localhost:8080/"
        },
        "id": "pQE79gz3omgd",
        "outputId": "3ec4841e-96e9-4927-9617-70d395a68a5b"
      },
      "outputs": [],
      "source": [
        "#classic dot product\n",
        "c=np.dot(a,b)\n",
        "d=np.cross(a,b)\n",
        "print(c,d,sep='\\n')"
      ]
    },
    {
      "cell_type": "code",
      "execution_count": 26,
      "metadata": {
        "colab": {
          "base_uri": "https://localhost:8080/",
          "height": 229
        },
        "id": "4IEYmizJqh8R",
        "outputId": "c27483a3-325a-43c1-cecf-e795a7c3d133"
      },
      "outputs": [],
      "source": [
        "a = np.ones((2,3), dtype=int)\n",
        "b = np.random.random((2,3))\n",
        "#b+=a #works\n",
        "#a+=b #doesnt work\n",
        "a=a+b #works\n"
      ]
    },
    {
      "cell_type": "code",
      "execution_count": 27,
      "metadata": {
        "colab": {
          "base_uri": "https://localhost:8080/"
        },
        "id": "fqTGih36rHRI",
        "outputId": "07a522e1-2c45-4c90-d272-aeafe97c74e5"
      },
      "outputs": [
        {
          "name": "stdout",
          "output_type": "stream",
          "text": [
            "36 0 8\n"
          ]
        }
      ],
      "source": [
        "a=np.arange(9).reshape((3,3))\n",
        "print\n",
        "print(a.sum(),a.min(),a.max())"
      ]
    },
    {
      "cell_type": "code",
      "execution_count": 29,
      "metadata": {
        "colab": {
          "base_uri": "https://localhost:8080/"
        },
        "id": "NippRcdJrafy",
        "outputId": "993ca709-7137-4e5f-d8d5-b4703c2aa1ee"
      },
      "outputs": [
        {
          "name": "stdout",
          "output_type": "stream",
          "text": [
            "[[0 1 2]\n",
            " [3 4 5]\n",
            " [6 7 8]]\n",
            "[ 9 12 15]\n",
            "[ 3 12 21]\n"
          ]
        }
      ],
      "source": [
        "print(a)\n",
        "print(a.sum(axis=0))\n",
        "print(a.sum(axis=1))"
      ]
    },
    {
      "cell_type": "code",
      "execution_count": 30,
      "metadata": {
        "colab": {
          "base_uri": "https://localhost:8080/"
        },
        "id": "A1c-RLW7r7eu",
        "outputId": "6305107a-35c3-4917-d1b2-870824a3b811"
      },
      "outputs": [
        {
          "name": "stdout",
          "output_type": "stream",
          "text": [
            "[[0.         1.         1.41421356]\n",
            " [1.73205081 2.         2.23606798]\n",
            " [2.44948974 2.64575131 2.82842712]]\n",
            "[[1.00000000e+00 2.71828183e+00 7.38905610e+00]\n",
            " [2.00855369e+01 5.45981500e+01 1.48413159e+02]\n",
            " [4.03428793e+02 1.09663316e+03 2.98095799e+03]]\n",
            "[[0.         0.78539816 1.10714872]\n",
            " [1.24904577 1.32581766 1.37340077]\n",
            " [1.40564765 1.42889927 1.44644133]]\n",
            "[[      -inf 0.         0.69314718]\n",
            " [1.09861229 1.38629436 1.60943791]\n",
            " [1.79175947 1.94591015 2.07944154]]\n"
          ]
        },
        {
          "name": "stderr",
          "output_type": "stream",
          "text": [
            "<ipython-input-30-d73135ee2c08>:5: RuntimeWarning: divide by zero encountered in log\n",
            "  print(np.log(a))\n"
          ]
        }
      ],
      "source": [
        "#Universal Functions\n",
        "print(np.sqrt(a))\n",
        "print(np.exp(a))\n",
        "print(np.arctan(a))\n",
        "print(np.log(a)) "
      ]
    },
    {
      "cell_type": "code",
      "execution_count": 31,
      "metadata": {
        "colab": {
          "base_uri": "https://localhost:8080/"
        },
        "id": "WOv_8nrMtefK",
        "outputId": "7c24ee75-98a4-4d54-a4e2-9ddaf514c0e1"
      },
      "outputs": [
        {
          "name": "stdout",
          "output_type": "stream",
          "text": [
            "[[0.37454012 0.95071431 0.73199394]\n",
            " [0.59865848 0.15601864 0.15599452]\n",
            " [0.05808361 0.86617615 0.60111501]]\n",
            "\n",
            "[[False  True  True]\n",
            " [ True False False]\n",
            " [False  True  True]]\n"
          ]
        }
      ],
      "source": [
        "#Masks\n",
        "np.random.seed(42)\n",
        "a=np.random.random((3,3))\n",
        "b=a>0.5\n",
        "print(a,b,sep='\\n\\n')"
      ]
    },
    {
      "cell_type": "code",
      "execution_count": 32,
      "metadata": {
        "colab": {
          "base_uri": "https://localhost:8080/"
        },
        "id": "q0gj37UNsaod",
        "outputId": "f789aa90-a912-4423-9eb9-13989f28f4ce"
      },
      "outputs": [
        {
          "name": "stdout",
          "output_type": "stream",
          "text": [
            "[[ 0  1  2  3  4]\n",
            " [ 5  6  7  8  9]\n",
            " [10 11 12 13 14]\n",
            " [15 16 17 18 19]\n",
            " [20 21 22 23 24]]\n",
            "[10 11 12 13 14]\n",
            "[[10 11 12 13 14]\n",
            " [15 16 17 18 19]\n",
            " [20 21 22 23 24]]\n",
            "7\n",
            "[[ 5]\n",
            " [10]\n",
            " [15]\n",
            " [20]]\n",
            "[ 4  9 14 19 24]\n"
          ]
        }
      ],
      "source": [
        "#Indexing numpy arrays\n",
        "#Returns views ie pointer is still to original array\n",
        "a=np.arange(25).reshape((5,5))\n",
        "print(a)\n",
        "print(a[2])\n",
        "print(a[2:5])\n",
        "print(a[1,2])\n",
        "print(a[1:,:1])\n",
        "print(a[:,-1])"
      ]
    },
    {
      "cell_type": "code",
      "execution_count": 33,
      "metadata": {
        "colab": {
          "base_uri": "https://localhost:8080/"
        },
        "id": "Ba5JTmkZBUut",
        "outputId": "04952bd2-f643-4523-cf06-f4fc56320329"
      },
      "outputs": [
        {
          "name": "stdout",
          "output_type": "stream",
          "text": [
            "First array:\n",
            "[[ 0.  0.  0.]\n",
            " [10. 10. 10.]\n",
            " [20. 20. 20.]\n",
            " [30. 30. 30.]]\n",
            "\n",
            "Second array:\n",
            "[1. 2. 3.]\n",
            "\n",
            "First Array + Second Array\n",
            "[[ 1.  2.  3.]\n",
            " [11. 12. 13.]\n",
            " [21. 22. 23.]\n",
            " [31. 32. 33.]]\n"
          ]
        }
      ],
      "source": [
        "#broadcasting\n",
        "a = np.array([[0.0,0.0,0.0],[10.0,10.0,10.0],[20.0,20.0,20.0],[30.0,30.0,30.0]]) \n",
        "b = np.array([1.0,2.0,3.0])  \n",
        "   \n",
        "print('First array:') \n",
        "print(a)\n",
        "print()\n",
        "   \n",
        "print( 'Second array:') \n",
        "print( b )\n",
        "print() \n",
        "   \n",
        "print ('First Array + Second Array' )\n",
        "print (a + b)"
      ]
    },
    {
      "cell_type": "code",
      "execution_count": 34,
      "metadata": {
        "colab": {
          "base_uri": "https://localhost:8080/"
        },
        "id": "x-DQjIRWs1-w",
        "outputId": "74bb3299-3c7e-47bd-908e-8974e01cfaae"
      },
      "outputs": [
        {
          "name": "stdout",
          "output_type": "stream",
          "text": [
            "Without vector: 15.444278717041016 333328333350000.0\n",
            "With vecotor: 0.21529197692871094 333328333350000\n"
          ]
        }
      ],
      "source": [
        "#Vectorisation\n",
        "import time\n",
        "a=list(range(100000))\n",
        "b=list(range(100000))\n",
        "anp=np.array(a)\n",
        "bnp=np.array(b)\n",
        "##Classic\n",
        "start=time.time()\n",
        "dot=0.0\n",
        "for i in range(100000):\n",
        "  dot+=a[i]*b[i]\n",
        "stop=time.time()\n",
        "print(\"Without vector:\",(stop-start)*1000,dot)\n",
        "start=time.time()\n",
        "dot2=np.dot(anp,bnp)\n",
        "stop=time.time()\n",
        "print(\"With vecotor:\",(stop-start)*1000,dot2)"
      ]
    },
    {
      "cell_type": "markdown",
      "metadata": {},
      "source": [
        "# Matplotlib"
      ]
    },
    {
      "cell_type": "code",
      "execution_count": 35,
      "metadata": {
        "id": "N_xZtrD19_Ck"
      },
      "outputs": [],
      "source": [
        "import matplotlib.pyplot as plt"
      ]
    },
    {
      "cell_type": "code",
      "execution_count": 38,
      "metadata": {
        "colab": {
          "base_uri": "https://localhost:8080/",
          "height": 265
        },
        "id": "nPC7A_5i_UIi",
        "outputId": "e865ecde-1cbf-44ee-d063-c73e6048c0be"
      },
      "outputs": [
        {
          "data": {
            "image/png": "[encoded data removed]",
            "text/plain": [
              "<Figure size 432x288 with 1 Axes>"
            ]
          },
          "metadata": {
            "needs_background": "light"
          },
          "output_type": "display_data"
        }
      ],
      "source": [
        "x = np.arange(0, 3 * np.pi, 0.1)\n",
        "y = np.sin(x)\n",
        "plt.plot(x, y)\n",
        "plt.show()  "
      ]
    },
    {
      "cell_type": "code",
      "execution_count": 39,
      "metadata": {
        "colab": {
          "base_uri": "https://localhost:8080/",
          "height": 295
        },
        "id": "nVbkOEqr_Zy0",
        "outputId": "a6ea9a22-fce5-4d53-ea3e-d4b843748249"
      },
      "outputs": [
        {
          "data": {
            "image/png": "[encoded data removed]",
            "text/plain": [
              "<Figure size 432x288 with 1 Axes>"
            ]
          },
          "metadata": {
            "needs_background": "light"
          },
          "output_type": "display_data"
        }
      ],
      "source": [
        "x = np.arange(0, 3 * np.pi, 0.1)\n",
        "y_sin = np.sin(x)\n",
        "y_cos = np.cos(x)\n",
        "\n",
        "\n",
        "plt.plot(x, y_sin)\n",
        "plt.plot(x, y_cos)\n",
        "plt.xlabel('x axis label')\n",
        "plt.ylabel('y axis label')\n",
        "plt.title('Sine and Cosine')\n",
        "plt.legend(['Sine', 'Cosine'])\n",
        "plt.show()"
      ]
    },
    {
      "cell_type": "code",
      "execution_count": 40,
      "metadata": {
        "colab": {
          "base_uri": "https://localhost:8080/",
          "height": 281
        },
        "id": "eTP8O3xn_e1n",
        "outputId": "9e467026-26b8-45fd-f0a3-bf6a65069e65"
      },
      "outputs": [
        {
          "data": {
            "image/png": "[encoded data removed]",
            "text/plain": [
              "<Figure size 432x288 with 2 Axes>"
            ]
          },
          "metadata": {
            "needs_background": "light"
          },
          "output_type": "display_data"
        }
      ],
      "source": [
        "\n",
        "\n",
        "x = np.arange(0, 3 * np.pi, 0.1)\n",
        "y_exp = np.exp(x)\n",
        "y_cos = np.cos(x)\n",
        "\n",
        "# Set up a subplot grid that has height 2 and width 1,\n",
        "# and set the first such subplot as active.\n",
        "plt.subplot(2, 1, 1)\n",
        "\n",
        "# Make the first plot\n",
        "plt.plot(x, y_exp)\n",
        "plt.title('Exp')\n",
        "\n",
        "# Set the second subplot as active, and make the second plot.\n",
        "plt.subplot(2, 1, 2)\n",
        "plt.plot(x, y_cos)\n",
        "plt.title('Cosine')\n",
        "\n",
        "# Show the figure.\n",
        "plt.show()\n"
      ]
    }
  ],
  "metadata": {
    "colab": {
      "collapsed_sections": [],
      "name": "Python_KSS_Part_2.ipynb",
      "provenance": []
    },
    "kernelspec": {
      "display_name": "Python 3",
      "name": "python3"
    },
    "language_info": {
      "codemirror_mode": {
        "name": "ipython",
        "version": 3
      },
      "file_extension": ".py",
      "mimetype": "text/x-python",
      "name": "python",
      "nbconvert_exporter": "python",
      "pygments_lexer": "ipython3",
      "version": "3.8.10"
    }
  },
  "nbformat": 4,
  "nbformat_minor": 0
}
