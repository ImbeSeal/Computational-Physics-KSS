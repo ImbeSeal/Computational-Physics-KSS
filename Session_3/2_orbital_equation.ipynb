{
 "cells": [
  {
   "cell_type": "code",
   "execution_count": null,
   "metadata": {},
   "outputs": [],
   "source": [
    "# Import necessary libraries\n",
    "import numpy as np #For Linear Algebra\n",
    "import matplotlib.pyplot as plt #For Data Visualization\n",
    "from math import sin, pi, sqrt, cos #For Mathematical Operations"
   ]
  },
  {
   "cell_type": "code",
   "execution_count": null,
   "metadata": {},
   "outputs": [],
   "source": [
    "K = 1.0 # Constant\n",
    "h = 0.1 #Step Size\n",
    "it = 1000 #Iterations\n",
    "n = np.array(range(it+1)) #Iteration Array\n",
    "t = n*h #Time-step Array\n",
    "r_0 = np.array([[1.0], [0.0]])\n",
    "r_dot_0 = np.array([[0.0], [1.0]])\n",
    "r = np.array(r_0)\n",
    "r_dot = np.array(r_dot_0)\n",
    "# Algorithm\n",
    "for i in range(1, it+1):\n",
    "    r_1 = r_0 + h*r_dot_0\n",
    "    r_dot_1 = r_dot_0 - (h*K*r_1)/pow((r_1[0]**2 + r_1[1]**2), 3/2)\n",
    "    r = np.append(r, r_1, axis=1)\n",
    "    r_dot = np.append(r_dot, r_dot_1, axis=1)\n",
    "    r_0 = r_1\n",
    "    r_dot_0 = r_dot_1\n",
    "# Plot trajectory \n",
    "plt.plot(r[0], r[1])\n",
    "plt.xlabel('x')\n",
    "plt.ylabel('y')\n",
    "plt.show()"
   ]
  }
 ],
 "metadata": {
  "interpreter": {
   "hash": "31f2aee4e71d21fbe5cf8b01ff0e069b9275f58929596ceb00d14d90e3e16cd6"
  },
  "kernelspec": {
   "display_name": "Python 3.8.10 64-bit",
   "language": "python",
   "name": "python3"
  },
  "language_info": {
   "codemirror_mode": {
    "name": "ipython",
    "version": 3
   },
   "file_extension": ".py",
   "mimetype": "text/x-python",
   "name": "python",
   "nbconvert_exporter": "python",
   "pygments_lexer": "ipython3",
   "version": "3.8.10"
  },
  "orig_nbformat": 4
 },
 "nbformat": 4,
 "nbformat_minor": 2
}
